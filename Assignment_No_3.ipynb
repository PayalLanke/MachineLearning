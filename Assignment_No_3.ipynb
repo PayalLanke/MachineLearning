{
 "cells": [
  {
   "cell_type": "code",
   "execution_count": 1,
   "id": "6816009f",
   "metadata": {},
   "outputs": [],
   "source": [
    "import pandas as pd\n",
    "import numpy as np\n",
    "import matplotlib.pyplot as plt"
   ]
  },
  {
   "cell_type": "code",
   "execution_count": 2,
   "id": "52485311",
   "metadata": {},
   "outputs": [],
   "source": [
    "import pandas as pd\n",
    "data=pd.read_csv(\"diabetes.csv\")"
   ]
  },
  {
   "cell_type": "code",
   "execution_count": 3,
   "id": "f11a7bd8",
   "metadata": {},
   "outputs": [
    {
     "data": {
      "text/html": [
       "<div>\n",
       "<style scoped>\n",
       "    .dataframe tbody tr th:only-of-type {\n",
       "        vertical-align: middle;\n",
       "    }\n",
       "\n",
       "    .dataframe tbody tr th {\n",
       "        vertical-align: top;\n",
       "    }\n",
       "\n",
       "    .dataframe thead th {\n",
       "        text-align: right;\n",
       "    }\n",
       "</style>\n",
       "<table border=\"1\" class=\"dataframe\">\n",
       "  <thead>\n",
       "    <tr style=\"text-align: right;\">\n",
       "      <th></th>\n",
       "      <th>Pregnancies</th>\n",
       "      <th>Glucose</th>\n",
       "      <th>BloodPressure</th>\n",
       "      <th>SkinThickness</th>\n",
       "      <th>Insulin</th>\n",
       "      <th>BMI</th>\n",
       "      <th>DiabetesPedigreeFunction</th>\n",
       "      <th>Age</th>\n",
       "      <th>Outcome</th>\n",
       "    </tr>\n",
       "  </thead>\n",
       "  <tbody>\n",
       "    <tr>\n",
       "      <th>0</th>\n",
       "      <td>6</td>\n",
       "      <td>148</td>\n",
       "      <td>72</td>\n",
       "      <td>35</td>\n",
       "      <td>0</td>\n",
       "      <td>33.6</td>\n",
       "      <td>0.627</td>\n",
       "      <td>50</td>\n",
       "      <td>1</td>\n",
       "    </tr>\n",
       "    <tr>\n",
       "      <th>1</th>\n",
       "      <td>1</td>\n",
       "      <td>85</td>\n",
       "      <td>66</td>\n",
       "      <td>29</td>\n",
       "      <td>0</td>\n",
       "      <td>26.6</td>\n",
       "      <td>0.351</td>\n",
       "      <td>31</td>\n",
       "      <td>0</td>\n",
       "    </tr>\n",
       "    <tr>\n",
       "      <th>2</th>\n",
       "      <td>8</td>\n",
       "      <td>183</td>\n",
       "      <td>64</td>\n",
       "      <td>0</td>\n",
       "      <td>0</td>\n",
       "      <td>23.3</td>\n",
       "      <td>0.672</td>\n",
       "      <td>32</td>\n",
       "      <td>1</td>\n",
       "    </tr>\n",
       "    <tr>\n",
       "      <th>3</th>\n",
       "      <td>1</td>\n",
       "      <td>89</td>\n",
       "      <td>66</td>\n",
       "      <td>23</td>\n",
       "      <td>94</td>\n",
       "      <td>28.1</td>\n",
       "      <td>0.167</td>\n",
       "      <td>21</td>\n",
       "      <td>0</td>\n",
       "    </tr>\n",
       "    <tr>\n",
       "      <th>4</th>\n",
       "      <td>0</td>\n",
       "      <td>137</td>\n",
       "      <td>40</td>\n",
       "      <td>35</td>\n",
       "      <td>168</td>\n",
       "      <td>43.1</td>\n",
       "      <td>2.288</td>\n",
       "      <td>33</td>\n",
       "      <td>1</td>\n",
       "    </tr>\n",
       "  </tbody>\n",
       "</table>\n",
       "</div>"
      ],
      "text/plain": [
       "   Pregnancies  Glucose  BloodPressure  SkinThickness  Insulin   BMI  \\\n",
       "0            6      148             72             35        0  33.6   \n",
       "1            1       85             66             29        0  26.6   \n",
       "2            8      183             64              0        0  23.3   \n",
       "3            1       89             66             23       94  28.1   \n",
       "4            0      137             40             35      168  43.1   \n",
       "\n",
       "   DiabetesPedigreeFunction  Age  Outcome  \n",
       "0                     0.627   50        1  \n",
       "1                     0.351   31        0  \n",
       "2                     0.672   32        1  \n",
       "3                     0.167   21        0  \n",
       "4                     2.288   33        1  "
      ]
     },
     "execution_count": 3,
     "metadata": {},
     "output_type": "execute_result"
    }
   ],
   "source": [
    "data.head()"
   ]
  },
  {
   "cell_type": "code",
   "execution_count": 4,
   "id": "cfb75652",
   "metadata": {},
   "outputs": [
    {
     "data": {
      "text/html": [
       "<div>\n",
       "<style scoped>\n",
       "    .dataframe tbody tr th:only-of-type {\n",
       "        vertical-align: middle;\n",
       "    }\n",
       "\n",
       "    .dataframe tbody tr th {\n",
       "        vertical-align: top;\n",
       "    }\n",
       "\n",
       "    .dataframe thead th {\n",
       "        text-align: right;\n",
       "    }\n",
       "</style>\n",
       "<table border=\"1\" class=\"dataframe\">\n",
       "  <thead>\n",
       "    <tr style=\"text-align: right;\">\n",
       "      <th></th>\n",
       "      <th>Pregnancies</th>\n",
       "      <th>Glucose</th>\n",
       "      <th>BloodPressure</th>\n",
       "      <th>SkinThickness</th>\n",
       "      <th>Insulin</th>\n",
       "      <th>BMI</th>\n",
       "      <th>DiabetesPedigreeFunction</th>\n",
       "      <th>Age</th>\n",
       "      <th>Outcome</th>\n",
       "    </tr>\n",
       "  </thead>\n",
       "  <tbody>\n",
       "    <tr>\n",
       "      <th>763</th>\n",
       "      <td>10</td>\n",
       "      <td>101</td>\n",
       "      <td>76</td>\n",
       "      <td>48</td>\n",
       "      <td>180</td>\n",
       "      <td>32.9</td>\n",
       "      <td>0.171</td>\n",
       "      <td>63</td>\n",
       "      <td>0</td>\n",
       "    </tr>\n",
       "    <tr>\n",
       "      <th>764</th>\n",
       "      <td>2</td>\n",
       "      <td>122</td>\n",
       "      <td>70</td>\n",
       "      <td>27</td>\n",
       "      <td>0</td>\n",
       "      <td>36.8</td>\n",
       "      <td>0.340</td>\n",
       "      <td>27</td>\n",
       "      <td>0</td>\n",
       "    </tr>\n",
       "    <tr>\n",
       "      <th>765</th>\n",
       "      <td>5</td>\n",
       "      <td>121</td>\n",
       "      <td>72</td>\n",
       "      <td>23</td>\n",
       "      <td>112</td>\n",
       "      <td>26.2</td>\n",
       "      <td>0.245</td>\n",
       "      <td>30</td>\n",
       "      <td>0</td>\n",
       "    </tr>\n",
       "    <tr>\n",
       "      <th>766</th>\n",
       "      <td>1</td>\n",
       "      <td>126</td>\n",
       "      <td>60</td>\n",
       "      <td>0</td>\n",
       "      <td>0</td>\n",
       "      <td>30.1</td>\n",
       "      <td>0.349</td>\n",
       "      <td>47</td>\n",
       "      <td>1</td>\n",
       "    </tr>\n",
       "    <tr>\n",
       "      <th>767</th>\n",
       "      <td>1</td>\n",
       "      <td>93</td>\n",
       "      <td>70</td>\n",
       "      <td>31</td>\n",
       "      <td>0</td>\n",
       "      <td>30.4</td>\n",
       "      <td>0.315</td>\n",
       "      <td>23</td>\n",
       "      <td>0</td>\n",
       "    </tr>\n",
       "  </tbody>\n",
       "</table>\n",
       "</div>"
      ],
      "text/plain": [
       "     Pregnancies  Glucose  BloodPressure  SkinThickness  Insulin   BMI  \\\n",
       "763           10      101             76             48      180  32.9   \n",
       "764            2      122             70             27        0  36.8   \n",
       "765            5      121             72             23      112  26.2   \n",
       "766            1      126             60              0        0  30.1   \n",
       "767            1       93             70             31        0  30.4   \n",
       "\n",
       "     DiabetesPedigreeFunction  Age  Outcome  \n",
       "763                     0.171   63        0  \n",
       "764                     0.340   27        0  \n",
       "765                     0.245   30        0  \n",
       "766                     0.349   47        1  \n",
       "767                     0.315   23        0  "
      ]
     },
     "execution_count": 4,
     "metadata": {},
     "output_type": "execute_result"
    }
   ],
   "source": [
    "data.tail()"
   ]
  },
  {
   "cell_type": "code",
   "execution_count": 5,
   "id": "01e560b9",
   "metadata": {},
   "outputs": [
    {
     "data": {
      "text/html": [
       "<div>\n",
       "<style scoped>\n",
       "    .dataframe tbody tr th:only-of-type {\n",
       "        vertical-align: middle;\n",
       "    }\n",
       "\n",
       "    .dataframe tbody tr th {\n",
       "        vertical-align: top;\n",
       "    }\n",
       "\n",
       "    .dataframe thead th {\n",
       "        text-align: right;\n",
       "    }\n",
       "</style>\n",
       "<table border=\"1\" class=\"dataframe\">\n",
       "  <thead>\n",
       "    <tr style=\"text-align: right;\">\n",
       "      <th></th>\n",
       "      <th>Pregnancies</th>\n",
       "      <th>Glucose</th>\n",
       "      <th>BloodPressure</th>\n",
       "      <th>SkinThickness</th>\n",
       "      <th>Insulin</th>\n",
       "      <th>BMI</th>\n",
       "      <th>DiabetesPedigreeFunction</th>\n",
       "      <th>Age</th>\n",
       "      <th>Outcome</th>\n",
       "    </tr>\n",
       "  </thead>\n",
       "  <tbody>\n",
       "    <tr>\n",
       "      <th>count</th>\n",
       "      <td>768.000000</td>\n",
       "      <td>768.000000</td>\n",
       "      <td>768.000000</td>\n",
       "      <td>768.000000</td>\n",
       "      <td>768.000000</td>\n",
       "      <td>768.000000</td>\n",
       "      <td>768.000000</td>\n",
       "      <td>768.000000</td>\n",
       "      <td>768.000000</td>\n",
       "    </tr>\n",
       "    <tr>\n",
       "      <th>mean</th>\n",
       "      <td>3.845052</td>\n",
       "      <td>120.894531</td>\n",
       "      <td>69.105469</td>\n",
       "      <td>20.536458</td>\n",
       "      <td>79.799479</td>\n",
       "      <td>31.992578</td>\n",
       "      <td>0.471876</td>\n",
       "      <td>33.240885</td>\n",
       "      <td>0.348958</td>\n",
       "    </tr>\n",
       "    <tr>\n",
       "      <th>std</th>\n",
       "      <td>3.369578</td>\n",
       "      <td>31.972618</td>\n",
       "      <td>19.355807</td>\n",
       "      <td>15.952218</td>\n",
       "      <td>115.244002</td>\n",
       "      <td>7.884160</td>\n",
       "      <td>0.331329</td>\n",
       "      <td>11.760232</td>\n",
       "      <td>0.476951</td>\n",
       "    </tr>\n",
       "    <tr>\n",
       "      <th>min</th>\n",
       "      <td>0.000000</td>\n",
       "      <td>0.000000</td>\n",
       "      <td>0.000000</td>\n",
       "      <td>0.000000</td>\n",
       "      <td>0.000000</td>\n",
       "      <td>0.000000</td>\n",
       "      <td>0.078000</td>\n",
       "      <td>21.000000</td>\n",
       "      <td>0.000000</td>\n",
       "    </tr>\n",
       "    <tr>\n",
       "      <th>25%</th>\n",
       "      <td>1.000000</td>\n",
       "      <td>99.000000</td>\n",
       "      <td>62.000000</td>\n",
       "      <td>0.000000</td>\n",
       "      <td>0.000000</td>\n",
       "      <td>27.300000</td>\n",
       "      <td>0.243750</td>\n",
       "      <td>24.000000</td>\n",
       "      <td>0.000000</td>\n",
       "    </tr>\n",
       "    <tr>\n",
       "      <th>50%</th>\n",
       "      <td>3.000000</td>\n",
       "      <td>117.000000</td>\n",
       "      <td>72.000000</td>\n",
       "      <td>23.000000</td>\n",
       "      <td>30.500000</td>\n",
       "      <td>32.000000</td>\n",
       "      <td>0.372500</td>\n",
       "      <td>29.000000</td>\n",
       "      <td>0.000000</td>\n",
       "    </tr>\n",
       "    <tr>\n",
       "      <th>75%</th>\n",
       "      <td>6.000000</td>\n",
       "      <td>140.250000</td>\n",
       "      <td>80.000000</td>\n",
       "      <td>32.000000</td>\n",
       "      <td>127.250000</td>\n",
       "      <td>36.600000</td>\n",
       "      <td>0.626250</td>\n",
       "      <td>41.000000</td>\n",
       "      <td>1.000000</td>\n",
       "    </tr>\n",
       "    <tr>\n",
       "      <th>max</th>\n",
       "      <td>17.000000</td>\n",
       "      <td>199.000000</td>\n",
       "      <td>122.000000</td>\n",
       "      <td>99.000000</td>\n",
       "      <td>846.000000</td>\n",
       "      <td>67.100000</td>\n",
       "      <td>2.420000</td>\n",
       "      <td>81.000000</td>\n",
       "      <td>1.000000</td>\n",
       "    </tr>\n",
       "  </tbody>\n",
       "</table>\n",
       "</div>"
      ],
      "text/plain": [
       "       Pregnancies     Glucose  BloodPressure  SkinThickness     Insulin  \\\n",
       "count   768.000000  768.000000     768.000000     768.000000  768.000000   \n",
       "mean      3.845052  120.894531      69.105469      20.536458   79.799479   \n",
       "std       3.369578   31.972618      19.355807      15.952218  115.244002   \n",
       "min       0.000000    0.000000       0.000000       0.000000    0.000000   \n",
       "25%       1.000000   99.000000      62.000000       0.000000    0.000000   \n",
       "50%       3.000000  117.000000      72.000000      23.000000   30.500000   \n",
       "75%       6.000000  140.250000      80.000000      32.000000  127.250000   \n",
       "max      17.000000  199.000000     122.000000      99.000000  846.000000   \n",
       "\n",
       "              BMI  DiabetesPedigreeFunction         Age     Outcome  \n",
       "count  768.000000                768.000000  768.000000  768.000000  \n",
       "mean    31.992578                  0.471876   33.240885    0.348958  \n",
       "std      7.884160                  0.331329   11.760232    0.476951  \n",
       "min      0.000000                  0.078000   21.000000    0.000000  \n",
       "25%     27.300000                  0.243750   24.000000    0.000000  \n",
       "50%     32.000000                  0.372500   29.000000    0.000000  \n",
       "75%     36.600000                  0.626250   41.000000    1.000000  \n",
       "max     67.100000                  2.420000   81.000000    1.000000  "
      ]
     },
     "execution_count": 5,
     "metadata": {},
     "output_type": "execute_result"
    }
   ],
   "source": [
    "data.describe()"
   ]
  },
  {
   "cell_type": "code",
   "execution_count": 6,
   "id": "15285456",
   "metadata": {},
   "outputs": [
    {
     "name": "stdout",
     "output_type": "stream",
     "text": [
      "<class 'pandas.core.frame.DataFrame'>\n",
      "RangeIndex: 768 entries, 0 to 767\n",
      "Data columns (total 9 columns):\n",
      " #   Column                    Non-Null Count  Dtype  \n",
      "---  ------                    --------------  -----  \n",
      " 0   Pregnancies               768 non-null    int64  \n",
      " 1   Glucose                   768 non-null    int64  \n",
      " 2   BloodPressure             768 non-null    int64  \n",
      " 3   SkinThickness             768 non-null    int64  \n",
      " 4   Insulin                   768 non-null    int64  \n",
      " 5   BMI                       768 non-null    float64\n",
      " 6   DiabetesPedigreeFunction  768 non-null    float64\n",
      " 7   Age                       768 non-null    int64  \n",
      " 8   Outcome                   768 non-null    int64  \n",
      "dtypes: float64(2), int64(7)\n",
      "memory usage: 54.1 KB\n"
     ]
    }
   ],
   "source": [
    "data.info()"
   ]
  },
  {
   "cell_type": "code",
   "execution_count": 7,
   "id": "78cc47ef",
   "metadata": {},
   "outputs": [
    {
     "data": {
      "text/plain": [
       "Pregnancies                 0\n",
       "Glucose                     0\n",
       "BloodPressure               0\n",
       "SkinThickness               0\n",
       "Insulin                     0\n",
       "BMI                         0\n",
       "DiabetesPedigreeFunction    0\n",
       "Age                         0\n",
       "Outcome                     0\n",
       "dtype: int64"
      ]
     },
     "execution_count": 7,
     "metadata": {},
     "output_type": "execute_result"
    }
   ],
   "source": [
    "data.isna().sum()"
   ]
  },
  {
   "cell_type": "code",
   "execution_count": 8,
   "id": "a840eb28",
   "metadata": {},
   "outputs": [],
   "source": [
    "feature_cols = ['Pregnancies','BloodPressure', 'Glucose', 'SkinThickness', 'Insulin', 'BMI', 'Age']\n",
    "X = data[feature_cols]\n",
    "y = data.Outcome"
   ]
  },
  {
   "cell_type": "code",
   "execution_count": 9,
   "id": "9b767aa8",
   "metadata": {},
   "outputs": [],
   "source": [
    "from sklearn.model_selection import train_test_split\n",
    "x_train, x_test,y_train, y_test=train_test_split(X,y,test_size=0.25,random_state=16)"
   ]
  },
  {
   "cell_type": "code",
   "execution_count": 10,
   "id": "fe67d2c9",
   "metadata": {},
   "outputs": [],
   "source": [
    "from sklearn.linear_model import LogisticRegression\n",
    "logreg= LogisticRegression(random_state=16)\n",
    "logreg.fit(x_train,y_train)\n",
    "y_pred=logreg.predict(x_test)"
   ]
  },
  {
   "cell_type": "code",
   "execution_count": 11,
   "id": "a3e8c923",
   "metadata": {},
   "outputs": [
    {
     "data": {
      "text/plain": [
       "<Axes: xlabel='Glucose', ylabel='Outcome'>"
      ]
     },
     "execution_count": 11,
     "metadata": {},
     "output_type": "execute_result"
    },
    {
     "data": {
      "image/png": "[encoded data removed]",
      "text/plain": [
       "<Figure size 640x480 with 1 Axes>"
      ]
     },
     "metadata": {},
     "output_type": "display_data"
    }
   ],
   "source": [
    "import seaborn as sns\n",
    "sns.scatterplot(x='Glucose', y='Outcome', data=data, hue='Outcome', palette='coolwarm')"
   ]
  },
  {
   "cell_type": "code",
   "execution_count": 12,
   "id": "2528b9dd",
   "metadata": {},
   "outputs": [
    {
     "data": {
      "image/png": "[encoded data removed]",
      "text/plain": [
       "<Figure size 640x480 with 1 Axes>"
      ]
     },
     "metadata": {},
     "output_type": "display_data"
    }
   ],
   "source": [
    "sns.regplot(x='Glucose', y='Outcome', data=data, logistic=True, ci=None)\n",
    "plt.title('Logistic Regression Curve: Glucose vs Label')\n",
    "plt.show()"
   ]
  },
  {
   "cell_type": "code",
   "execution_count": 16,
   "id": "5f450ec1",
   "metadata": {},
   "outputs": [
    {
     "name": "stdout",
     "output_type": "stream",
     "text": [
      "Collecting statsmodels\n",
      "  Downloading statsmodels-0.14.5-cp311-cp311-win_amd64.whl (9.6 MB)\n",
      "                                              0.0/9.6 MB ? eta -:--:--\n",
      "                                              0.0/9.6 MB ? eta -:--:--\n",
      "                                              0.0/9.6 MB 110.1 kB/s eta 0:01:28\n",
      "                                              0.0/9.6 MB 187.9 kB/s eta 0:00:52\n",
      "                                              0.1/9.6 MB 297.7 kB/s eta 0:00:33\n",
      "                                              0.1/9.6 MB 302.7 kB/s eta 0:00:32\n",
      "                                              0.1/9.6 MB 347.8 kB/s eta 0:00:28\n",
      "                                              0.2/9.6 MB 590.8 kB/s eta 0:00:16\n",
      "                                              0.2/9.6 MB 627.5 kB/s eta 0:00:15\n",
      "     -                                        0.3/9.6 MB 731.4 kB/s eta 0:00:13\n",
      "     -                                        0.3/9.6 MB 746.0 kB/s eta 0:00:13\n",
      "     -                                        0.4/9.6 MB 778.2 kB/s eta 0:00:12\n",
      "     -                                        0.4/9.6 MB 790.7 kB/s eta 0:00:12\n",
      "     -                                        0.5/9.6 MB 794.3 kB/s eta 0:00:12\n",
      "     --                                       0.5/9.6 MB 835.6 kB/s eta 0:00:11\n",
      "     --                                       0.6/9.6 MB 834.7 kB/s eta 0:00:11\n",
      "     --                                       0.6/9.6 MB 851.0 kB/s eta 0:00:11\n",
      "     --                                       0.7/9.6 MB 852.2 kB/s eta 0:00:11\n",
      "     ---                                      0.7/9.6 MB 865.7 kB/s eta 0:00:11\n",
      "     ---                                      0.8/9.6 MB 901.1 kB/s eta 0:00:10\n",
      "     ---                                      0.8/9.6 MB 904.2 kB/s eta 0:00:10\n",
      "     ---                                      0.9/9.6 MB 909.8 kB/s eta 0:00:10\n",
      "     ---                                      0.9/9.6 MB 911.4 kB/s eta 0:00:10\n",
      "     ----                                     1.0/9.6 MB 938.9 kB/s eta 0:00:10\n",
      "     ----                                     1.0/9.6 MB 927.5 kB/s eta 0:00:10\n",
      "     ----                                     1.1/9.6 MB 947.8 kB/s eta 0:00:10\n",
      "     ----                                     1.1/9.6 MB 927.8 kB/s eta 0:00:10\n",
      "     ----                                     1.2/9.6 MB 942.1 kB/s eta 0:00:09\n",
      "     -----                                    1.2/9.6 MB 939.5 kB/s eta 0:00:09\n",
      "     -----                                    1.3/9.6 MB 937.8 kB/s eta 0:00:09\n",
      "     -----                                    1.3/9.6 MB 946.8 kB/s eta 0:00:09\n",
      "     -----                                    1.4/9.6 MB 962.0 kB/s eta 0:00:09\n",
      "     ------                                   1.5/9.6 MB 986.7 kB/s eta 0:00:09\n",
      "     ------                                   1.6/9.6 MB 1.0 MB/s eta 0:00:09\n",
      "     ------                                   1.6/9.6 MB 1.0 MB/s eta 0:00:08\n",
      "     ------                                   1.7/9.6 MB 1.0 MB/s eta 0:00:08\n",
      "     -------                                  1.7/9.6 MB 1.0 MB/s eta 0:00:08\n",
      "     -------                                  1.8/9.6 MB 1.0 MB/s eta 0:00:08\n",
      "     -------                                  1.9/9.6 MB 1.1 MB/s eta 0:00:08\n",
      "     -------                                  1.9/9.6 MB 1.0 MB/s eta 0:00:08\n",
      "     --------                                 2.0/9.6 MB 1.1 MB/s eta 0:00:08\n",
      "     --------                                 2.0/9.6 MB 1.1 MB/s eta 0:00:08\n",
      "     --------                                 2.1/9.6 MB 1.1 MB/s eta 0:00:08\n",
      "     ---------                                2.2/9.6 MB 1.1 MB/s eta 0:00:07\n",
      "     ---------                                2.3/9.6 MB 1.1 MB/s eta 0:00:07\n",
      "     ---------                                2.3/9.6 MB 1.1 MB/s eta 0:00:07\n",
      "     ----------                               2.4/9.6 MB 1.1 MB/s eta 0:00:07\n",
      "     ----------                               2.5/9.6 MB 1.2 MB/s eta 0:00:07\n",
      "     ----------                               2.6/9.6 MB 1.2 MB/s eta 0:00:07\n",
      "     -----------                              2.7/9.6 MB 1.2 MB/s eta 0:00:06\n",
      "     -----------                              2.8/9.6 MB 1.2 MB/s eta 0:00:06\n",
      "     ------------                             2.9/9.6 MB 1.2 MB/s eta 0:00:06\n",
      "     ------------                             3.1/9.6 MB 1.3 MB/s eta 0:00:06\n",
      "     -------------                            3.2/9.6 MB 1.3 MB/s eta 0:00:05\n",
      "     --------------                           3.4/9.6 MB 1.3 MB/s eta 0:00:05\n",
      "     --------------                           3.5/9.6 MB 1.3 MB/s eta 0:00:05\n",
      "     ---------------                          3.6/9.6 MB 1.4 MB/s eta 0:00:05\n",
      "     ---------------                          3.8/9.6 MB 1.4 MB/s eta 0:00:05\n",
      "     ----------------                         3.9/9.6 MB 1.4 MB/s eta 0:00:05\n",
      "     ----------------                         4.0/9.6 MB 1.4 MB/s eta 0:00:04\n",
      "     -----------------                        4.1/9.6 MB 1.4 MB/s eta 0:00:04\n",
      "     -----------------                        4.3/9.6 MB 1.5 MB/s eta 0:00:04\n",
      "     ------------------                       4.5/9.6 MB 1.5 MB/s eta 0:00:04\n",
      "     ------------------                       4.5/9.6 MB 1.5 MB/s eta 0:00:04\n",
      "     -------------------                      4.7/9.6 MB 1.5 MB/s eta 0:00:04\n",
      "     -------------------                      4.8/9.6 MB 1.6 MB/s eta 0:00:04\n",
      "     -------------------                      4.8/9.6 MB 1.6 MB/s eta 0:00:04\n",
      "     -------------------                      4.8/9.6 MB 1.6 MB/s eta 0:00:04\n",
      "     -------------------                      4.8/9.6 MB 1.6 MB/s eta 0:00:04\n",
      "     -------------------                      4.8/9.6 MB 1.6 MB/s eta 0:00:04\n",
      "     -------------------                      4.8/9.6 MB 1.6 MB/s eta 0:00:04\n",
      "     ---------------------                    5.2/9.6 MB 1.6 MB/s eta 0:00:03\n",
      "     ----------------------                   5.3/9.6 MB 1.6 MB/s eta 0:00:03\n",
      "     ----------------------                   5.4/9.6 MB 1.6 MB/s eta 0:00:03\n",
      "     ----------------------                   5.4/9.6 MB 1.6 MB/s eta 0:00:03\n",
      "     -----------------------                  5.6/9.6 MB 1.6 MB/s eta 0:00:03\n",
      "     -----------------------                  5.6/9.6 MB 1.6 MB/s eta 0:00:03\n",
      "     -----------------------                  5.7/9.6 MB 1.6 MB/s eta 0:00:03\n",
      "     ------------------------                 5.8/9.6 MB 1.6 MB/s eta 0:00:03\n",
      "     ------------------------                 5.8/9.6 MB 1.6 MB/s eta 0:00:03\n",
      "     ------------------------                 5.9/9.6 MB 1.6 MB/s eta 0:00:03\n",
      "     ------------------------                 6.0/9.6 MB 1.6 MB/s eta 0:00:03\n",
      "     -------------------------                6.1/9.6 MB 1.6 MB/s eta 0:00:03\n",
      "     -------------------------                6.1/9.6 MB 1.6 MB/s eta 0:00:03\n",
      "     -------------------------                6.2/9.6 MB 1.6 MB/s eta 0:00:03\n",
      "     --------------------------               6.3/9.6 MB 1.6 MB/s eta 0:00:03\n",
      "     --------------------------               6.3/9.6 MB 1.6 MB/s eta 0:00:03\n",
      "     --------------------------               6.5/9.6 MB 1.6 MB/s eta 0:00:03\n",
      "     ---------------------------              6.6/9.6 MB 1.6 MB/s eta 0:00:02\n",
      "     ---------------------------              6.7/9.6 MB 1.6 MB/s eta 0:00:02\n",
      "     ----------------------------             6.8/9.6 MB 1.6 MB/s eta 0:00:02\n",
      "     ----------------------------             6.9/9.6 MB 1.6 MB/s eta 0:00:02\n",
      "     ----------------------------             7.0/9.6 MB 1.6 MB/s eta 0:00:02\n",
      "     -----------------------------            7.1/9.6 MB 1.6 MB/s eta 0:00:02\n",
      "     ------------------------------           7.2/9.6 MB 1.6 MB/s eta 0:00:02\n",
      "     ------------------------------           7.3/9.6 MB 1.6 MB/s eta 0:00:02\n",
      "     ------------------------------           7.4/9.6 MB 1.6 MB/s eta 0:00:02\n",
      "     ------------------------------           7.5/9.6 MB 1.6 MB/s eta 0:00:02\n",
      "     -------------------------------          7.5/9.6 MB 1.6 MB/s eta 0:00:02\n",
      "     -------------------------------          7.6/9.6 MB 1.6 MB/s eta 0:00:02\n",
      "     -------------------------------          7.7/9.6 MB 1.6 MB/s eta 0:00:02\n",
      "     --------------------------------         7.7/9.6 MB 1.6 MB/s eta 0:00:02\n",
      "     --------------------------------         7.8/9.6 MB 1.6 MB/s eta 0:00:02\n",
      "     --------------------------------         7.9/9.6 MB 1.6 MB/s eta 0:00:02\n",
      "     --------------------------------         7.9/9.6 MB 1.6 MB/s eta 0:00:02\n",
      "     ---------------------------------        8.1/9.6 MB 1.6 MB/s eta 0:00:01\n",
      "     ---------------------------------        8.1/9.6 MB 1.6 MB/s eta 0:00:01\n",
      "     ----------------------------------       8.2/9.6 MB 1.6 MB/s eta 0:00:01\n",
      "     ----------------------------------       8.3/9.6 MB 1.6 MB/s eta 0:00:01\n",
      "     -----------------------------------      8.4/9.6 MB 1.6 MB/s eta 0:00:01\n",
      "     -----------------------------------      8.5/9.6 MB 1.6 MB/s eta 0:00:01\n",
      "     -----------------------------------      8.6/9.6 MB 1.6 MB/s eta 0:00:01\n",
      "     -----------------------------------      8.6/9.6 MB 1.6 MB/s eta 0:00:01\n",
      "     ------------------------------------     8.8/9.6 MB 1.6 MB/s eta 0:00:01\n",
      "     ------------------------------------     8.9/9.6 MB 1.6 MB/s eta 0:00:01\n",
      "     -------------------------------------    8.9/9.6 MB 1.6 MB/s eta 0:00:01\n",
      "     -------------------------------------    9.0/9.6 MB 1.6 MB/s eta 0:00:01\n",
      "     -------------------------------------    9.1/9.6 MB 1.6 MB/s eta 0:00:01\n",
      "     -------------------------------------    9.1/9.6 MB 1.6 MB/s eta 0:00:01\n",
      "     --------------------------------------   9.2/9.6 MB 1.6 MB/s eta 0:00:01\n",
      "     --------------------------------------   9.2/9.6 MB 1.6 MB/s eta 0:00:01\n",
      "     --------------------------------------   9.3/9.6 MB 1.6 MB/s eta 0:00:01\n",
      "     --------------------------------------   9.4/9.6 MB 1.6 MB/s eta 0:00:01\n",
      "     ---------------------------------------  9.5/9.6 MB 1.6 MB/s eta 0:00:01\n",
      "     ---------------------------------------  9.5/9.6 MB 1.6 MB/s eta 0:00:01\n",
      "     ---------------------------------------  9.6/9.6 MB 1.6 MB/s eta 0:00:01\n",
      "     ---------------------------------------  9.6/9.6 MB 1.6 MB/s eta 0:00:01\n",
      "     ---------------------------------------  9.6/9.6 MB 1.6 MB/s eta 0:00:01\n",
      "     ---------------------------------------  9.6/9.6 MB 1.6 MB/s eta 0:00:01\n",
      "     ---------------------------------------- 9.6/9.6 MB 1.6 MB/s eta 0:00:00\n",
      "Requirement already satisfied: numpy<3,>=1.22.3 in c:\\users\\hp\\appdata\\local\\programs\\python\\python311\\lib\\site-packages (from statsmodels) (2.3.1)\n",
      "Requirement already satisfied: scipy!=1.9.2,>=1.8 in c:\\users\\hp\\appdata\\local\\programs\\python\\python311\\lib\\site-packages (from statsmodels) (1.16.1)\n",
      "Requirement already satisfied: pandas!=2.1.0,>=1.4 in c:\\users\\hp\\appdata\\local\\programs\\python\\python311\\lib\\site-packages (from statsmodels) (2.3.1)\n",
      "Collecting patsy>=0.5.6 (from statsmodels)\n",
      "  Downloading patsy-1.0.1-py2.py3-none-any.whl (232 kB)\n",
      "                                              0.0/232.9 kB ? eta -:--:--\n",
      "     ------------------                     112.6/232.9 kB 3.3 MB/s eta 0:00:01\n",
      "     ---------------------------------      204.8/232.9 kB 2.5 MB/s eta 0:00:01\n",
      "     -------------------------------------- 232.9/232.9 kB 1.8 MB/s eta 0:00:00\n",
      "Requirement already satisfied: packaging>=21.3 in c:\\users\\hp\\appdata\\roaming\\python\\python311\\site-packages (from statsmodels) (25.0)\n",
      "Requirement already satisfied: python-dateutil>=2.8.2 in c:\\users\\hp\\appdata\\roaming\\python\\python311\\site-packages (from pandas!=2.1.0,>=1.4->statsmodels) (2.9.0.post0)\n",
      "Requirement already satisfied: pytz>=2020.1 in c:\\users\\hp\\appdata\\local\\programs\\python\\python311\\lib\\site-packages (from pandas!=2.1.0,>=1.4->statsmodels) (2025.2)\n",
      "Requirement already satisfied: tzdata>=2022.7 in c:\\users\\hp\\appdata\\local\\programs\\python\\python311\\lib\\site-packages (from pandas!=2.1.0,>=1.4->statsmodels) (2025.2)\n",
      "Requirement already satisfied: six>=1.5 in c:\\users\\hp\\appdata\\roaming\\python\\python311\\site-packages (from python-dateutil>=2.8.2->pandas!=2.1.0,>=1.4->statsmodels) (1.17.0)\n",
      "Installing collected packages: patsy, statsmodels\n",
      "Successfully installed patsy-1.0.1 statsmodels-0.14.5\n",
      "Note: you may need to restart the kernel to use updated packages.\n"
     ]
    },
    {
     "name": "stderr",
     "output_type": "stream",
     "text": [
      "\n",
      "[notice] A new release of pip is available: 23.1.2 -> 25.2\n",
      "[notice] To update, run: python.exe -m pip install --upgrade pip\n"
     ]
    }
   ],
   "source": [
    "pip install statsmodels"
   ]
  },
  {
   "cell_type": "code",
   "execution_count": 21,
   "id": "e44fa350",
   "metadata": {},
   "outputs": [
    {
     "data": {
      "text/plain": [
       "array([[117,   8],\n",
       "       [ 27,  40]])"
      ]
     },
     "execution_count": 21,
     "metadata": {},
     "output_type": "execute_result"
    }
   ],
   "source": [
    "\n",
    "from sklearn import metrics\n",
    "\n",
    "cnf_matrix = metrics.confusion_matrix(y_test, y_pred)\n",
    "cnf_matrix"
   ]
  },
  {
   "cell_type": "code",
   "execution_count": 26,
   "id": "ca806591",
   "metadata": {},
   "outputs": [
    {
     "data": {
      "text/plain": [
       "Text(0.5, 427.9555555555555, 'Predicted Label')"
      ]
     },
     "execution_count": 26,
     "metadata": {},
     "output_type": "execute_result"
    },
    {
     "data": {
      "image/png": "[encoded data removed]",
      "text/plain": [
       "<Figure size 640x480 with 2 Axes>"
      ]
     },
     "metadata": {},
     "output_type": "display_data"
    }
   ],
   "source": [
    "import numpy as np\n",
    "import matplotlib.pyplot as plt\n",
    "import seaborn as sns\n",
    "class_names=[0,1] #classes\n",
    "fig,ax=plt.subplots()#x and y axis plotting\n",
    "tick_marks=np.arange(len(class_names))\n",
    "plt.xticks(tick_marks,class_names)\n",
    "plt.yticks(tick_marks,class_names)\n",
    "\n",
    "#Heatmap creation\n",
    "sns.heatmap(pd.DataFrame(cnf_matrix),annot=True,cmap=\"YlGnBu\",fmt='g')\n",
    "ax.xaxis.set_label_position(\"top\")\n",
    "plt.tight_layout()\n",
    "plt.title('Confusion matrix',y=1.1)\n",
    "plt.ylabel('Actual Label')\n",
    "plt.xlabel('Predicted Label')\n",
    "#Text(0.5,257.44,'Predicted Label')"
   ]
  },
  {
   "cell_type": "code",
   "execution_count": 27,
   "id": "df268492",
   "metadata": {},
   "outputs": [
    {
     "name": "stdout",
     "output_type": "stream",
     "text": [
      "                  precision    recall  f1-score   support\n",
      "\n",
      "without diabetes       0.81      0.94      0.87       125\n",
      "   with diabetes       0.83      0.60      0.70        67\n",
      "\n",
      "        accuracy                           0.82       192\n",
      "       macro avg       0.82      0.77      0.78       192\n",
      "    weighted avg       0.82      0.82      0.81       192\n",
      "\n"
     ]
    }
   ],
   "source": [
    "from sklearn.metrics import classification_report\n",
    "target_names=['without diabetes','with diabetes']\n",
    "print(classification_report(y_test,y_pred,target_names=target_names))"
   ]
  },
  {
   "cell_type": "code",
   "execution_count": 29,
   "id": "fbb378bd",
   "metadata": {},
   "outputs": [
    {
     "data": {
      "image/png": "[encoded data removed]",
      "text/plain": [
       "<Figure size 640x480 with 1 Axes>"
      ]
     },
     "metadata": {},
     "output_type": "display_data"
    }
   ],
   "source": [
    "y_pred_proba = logreg.predict_proba(x_test)[::,1]\n",
    "fpr, tpr, _ = metrics.roc_curve(y_test,  y_pred_proba)\n",
    "auc = metrics.roc_auc_score(y_test, y_pred_proba)\n",
    "plt.plot(fpr,tpr,label=\"data 1, auc=\"+str(auc))\n",
    "plt.legend(loc=4)\n",
    "plt.show()"
   ]
  }
 ],
 "metadata": {
  "kernelspec": {
   "display_name": "Python 3",
   "language": "python",
   "name": "python3"
  },
  "language_info": {
   "codemirror_mode": {
    "name": "ipython",
    "version": 3
   },
   "file_extension": ".py",
   "mimetype": "text/x-python",
   "name": "python",
   "nbconvert_exporter": "python",
   "pygments_lexer": "ipython3",
   "version": "3.11.4"
  }
 },
 "nbformat": 4,
 "nbformat_minor": 5
}
