{
 "cells": [
  {
   "cell_type": "code",
   "execution_count": 6,
   "id": "fc52b597",
   "metadata": {},
   "outputs": [
    {
     "name": "stdout",
     "output_type": "stream",
     "text": [
      "       PassengerId    Survived  PassangerClass         Age       SibSp  \\\n",
      "count   891.000000  891.000000      891.000000  714.000000  891.000000   \n",
      "mean    446.000000    0.383838        2.308642   29.699118    0.523008   \n",
      "std     257.353842    0.486592        0.836071   14.526497    1.102743   \n",
      "min       1.000000    0.000000        1.000000    0.420000    0.000000   \n",
      "25%     223.500000    0.000000        2.000000   20.125000    0.000000   \n",
      "50%     446.000000    0.000000        3.000000   28.000000    0.000000   \n",
      "75%     668.500000    1.000000        3.000000   38.000000    1.000000   \n",
      "max     891.000000    1.000000        3.000000   80.000000    8.000000   \n",
      "\n",
      "            Parch        Fare  \n",
      "count  891.000000  891.000000  \n",
      "mean     0.381594   32.204208  \n",
      "std      0.806057   49.693429  \n",
      "min      0.000000    0.000000  \n",
      "25%      0.000000    7.910400  \n",
      "50%      0.000000   14.454200  \n",
      "75%      0.000000   31.000000  \n",
      "max      6.000000  512.329200  \n"
     ]
    }
   ],
   "source": [
    "print(data.describe())"
   ]
  },
  {
   "cell_type": "code",
   "execution_count": 7,
   "id": "27aca88b",
   "metadata": {},
   "outputs": [
    {
     "name": "stdout",
     "output_type": "stream",
     "text": [
      "   PassengerId  Survived  Pclass  \\\n",
      "0            1         0       3   \n",
      "1            2         1       1   \n",
      "2            3         1       3   \n",
      "3            4         1       1   \n",
      "4            5         0       3   \n",
      "\n",
      "                                                Name     Sex   Age  SibSp  \\\n",
      "0                            Braund, Mr. Owen Harris    male  22.0      1   \n",
      "1  Cumings, Mrs. John Bradley (Florence Briggs Th...  female  38.0      1   \n",
      "2                             Heikkinen, Miss. Laina  female  26.0      0   \n",
      "3       Futrelle, Mrs. Jacques Heath (Lily May Peel)  female  35.0      1   \n",
      "4                           Allen, Mr. William Henry    male  35.0      0   \n",
      "\n",
      "   Parch            Ticket     Fare Cabin Embarked  \n",
      "0      0         A/5 21171   7.2500   NaN        S  \n",
      "1      0          PC 17599  71.2833   C85        C  \n",
      "2      0  STON/O2. 3101282   7.9250   NaN        S  \n",
      "3      0            113803  53.1000  C123        S  \n",
      "4      0            373450   8.0500   NaN        S  \n"
     ]
    }
   ],
   "source": [
    "print(data.head())"
   ]
  },
  {
   "cell_type": "code",
   "execution_count": 8,
   "id": "d72d5bdc",
   "metadata": {},
   "outputs": [
    {
     "name": "stdout",
     "output_type": "stream",
     "text": [
      "     PassengerId  Survived  Pclass                                      Name  \\\n",
      "886          887         0       2                     Montvila, Rev. Juozas   \n",
      "887          888         1       1              Graham, Miss. Margaret Edith   \n",
      "888          889         0       3  Johnston, Miss. Catherine Helen \"Carrie\"   \n",
      "889          890         1       1                     Behr, Mr. Karl Howell   \n",
      "890          891         0       3                       Dooley, Mr. Patrick   \n",
      "\n",
      "        Sex   Age  SibSp  Parch      Ticket   Fare Cabin Embarked  \n",
      "886    male  27.0      0      0      211536  13.00   NaN        S  \n",
      "887  female  19.0      0      0      112053  30.00   B42        S  \n",
      "888  female   NaN      1      2  W./C. 6607  23.45   NaN        S  \n",
      "889    male  26.0      0      0      111369  30.00  C148        C  \n",
      "890    male  32.0      0      0      370376   7.75   NaN        Q  \n"
     ]
    }
   ],
   "source": [
    "print(data.tail())"
   ]
  },
  {
   "cell_type": "code",
   "execution_count": 9,
   "id": "4d610160",
   "metadata": {},
   "outputs": [
    {
     "name": "stdout",
     "output_type": "stream",
     "text": [
      "     PassengerId  Survived  Pclass   Name    Sex    Age  SibSp  Parch  Ticket  \\\n",
      "0          False     False   False  False  False  False  False  False   False   \n",
      "1          False     False   False  False  False  False  False  False   False   \n",
      "2          False     False   False  False  False  False  False  False   False   \n",
      "3          False     False   False  False  False  False  False  False   False   \n",
      "4          False     False   False  False  False  False  False  False   False   \n",
      "..           ...       ...     ...    ...    ...    ...    ...    ...     ...   \n",
      "886        False     False   False  False  False  False  False  False   False   \n",
      "887        False     False   False  False  False  False  False  False   False   \n",
      "888        False     False   False  False  False   True  False  False   False   \n",
      "889        False     False   False  False  False  False  False  False   False   \n",
      "890        False     False   False  False  False  False  False  False   False   \n",
      "\n",
      "      Fare  Cabin  Embarked  \n",
      "0    False   True     False  \n",
      "1    False  False     False  \n",
      "2    False   True     False  \n",
      "3    False  False     False  \n",
      "4    False   True     False  \n",
      "..     ...    ...       ...  \n",
      "886  False   True     False  \n",
      "887  False  False     False  \n",
      "888  False   True     False  \n",
      "889  False  False     False  \n",
      "890  False   True     False  \n",
      "\n",
      "[891 rows x 12 columns]\n"
     ]
    }
   ],
   "source": [
    "print(data.isnull())"
   ]
  },
  {
   "cell_type": "code",
   "execution_count": 11,
   "id": "42e04176",
   "metadata": {},
   "outputs": [
    {
     "name": "stdout",
     "output_type": "stream",
     "text": [
      "PassengerId      0\n",
      "Survived         0\n",
      "Pclass           0\n",
      "Name             0\n",
      "Sex              0\n",
      "Age            177\n",
      "SibSp            0\n",
      "Parch            0\n",
      "Ticket           0\n",
      "Fare             0\n",
      "Cabin          687\n",
      "Embarked         2\n",
      "dtype: int64\n"
     ]
    }
   ],
   "source": [
    "print(data.isnull().sum())"
   ]
  },
  {
   "cell_type": "code",
   "execution_count": 12,
   "id": "5bce56bf",
   "metadata": {},
   "outputs": [
    {
     "name": "stdout",
     "output_type": "stream",
     "text": [
      "     PassengerId  Survived  Pclass   Name    Sex    Age  SibSp  Parch  Ticket  \\\n",
      "0          False     False   False  False  False  False  False  False   False   \n",
      "1          False     False   False  False  False  False  False  False   False   \n",
      "2          False     False   False  False  False  False  False  False   False   \n",
      "3          False     False   False  False  False  False  False  False   False   \n",
      "4          False     False   False  False  False  False  False  False   False   \n",
      "..           ...       ...     ...    ...    ...    ...    ...    ...     ...   \n",
      "886        False     False   False  False  False  False  False  False   False   \n",
      "887        False     False   False  False  False  False  False  False   False   \n",
      "888        False     False   False  False  False   True  False  False   False   \n",
      "889        False     False   False  False  False  False  False  False   False   \n",
      "890        False     False   False  False  False  False  False  False   False   \n",
      "\n",
      "      Fare  Cabin  Embarked  \n",
      "0    False   True     False  \n",
      "1    False  False     False  \n",
      "2    False   True     False  \n",
      "3    False  False     False  \n",
      "4    False   True     False  \n",
      "..     ...    ...       ...  \n",
      "886  False   True     False  \n",
      "887  False  False     False  \n",
      "888  False   True     False  \n",
      "889  False  False     False  \n",
      "890  False   True     False  \n",
      "\n",
      "[891 rows x 12 columns]\n"
     ]
    }
   ],
   "source": [
    "print(data.isna())"
   ]
  },
  {
   "cell_type": "code",
   "execution_count": 13,
   "id": "0feeeee9",
   "metadata": {},
   "outputs": [
    {
     "name": "stdout",
     "output_type": "stream",
     "text": [
      "PassengerId      0\n",
      "Survived         0\n",
      "Pclass           0\n",
      "Name             0\n",
      "Sex              0\n",
      "Age            177\n",
      "SibSp            0\n",
      "Parch            0\n",
      "Ticket           0\n",
      "Fare             0\n",
      "Cabin          687\n",
      "Embarked         2\n",
      "dtype: int64\n"
     ]
    }
   ],
   "source": [
    "print(data.isna().sum())"
   ]
  },
  {
   "cell_type": "code",
   "execution_count": 14,
   "id": "a0567687",
   "metadata": {},
   "outputs": [
    {
     "name": "stdout",
     "output_type": "stream",
     "text": [
      "   PassengerId  Survived  Pclass  \\\n",
      "0            1         0       3   \n",
      "1            2         1       1   \n",
      "2            3         1       3   \n",
      "3            4         1       1   \n",
      "4            5         0       3   \n",
      "5            6         0       3   \n",
      "6            7         0       1   \n",
      "7            8         0       3   \n",
      "8            9         1       3   \n",
      "9           10         1       2   \n",
      "\n",
      "                                                Name     Sex   Age  SibSp  \\\n",
      "0                            Braund, Mr. Owen Harris    male  22.0      1   \n",
      "1  Cumings, Mrs. John Bradley (Florence Briggs Th...  female  38.0      1   \n",
      "2                             Heikkinen, Miss. Laina  female  26.0      0   \n",
      "3       Futrelle, Mrs. Jacques Heath (Lily May Peel)  female  35.0      1   \n",
      "4                           Allen, Mr. William Henry    male  35.0      0   \n",
      "5                                   Moran, Mr. James    male   NaN      0   \n",
      "6                            McCarthy, Mr. Timothy J    male  54.0      0   \n",
      "7                     Palsson, Master. Gosta Leonard    male   2.0      3   \n",
      "8  Johnson, Mrs. Oscar W (Elisabeth Vilhelmina Berg)  female  27.0      0   \n",
      "9                Nasser, Mrs. Nicholas (Adele Achem)  female  14.0      1   \n",
      "\n",
      "   Parch            Ticket     Fare Cabin Embarked  \n",
      "0      0         A/5 21171   7.2500   NaN        S  \n",
      "1      0          PC 17599  71.2833   C85        C  \n",
      "2      0  STON/O2. 3101282   7.9250   NaN        S  \n",
      "3      0            113803  53.1000  C123        S  \n",
      "4      0            373450   8.0500   NaN        S  \n",
      "5      0            330877   8.4583   NaN        Q  \n",
      "6      0             17463  51.8625   E46        S  \n",
      "7      1            349909  21.0750   NaN        S  \n",
      "8      2            347742  11.1333   NaN        S  \n",
      "9      0            237736  30.0708   NaN        C  \n"
     ]
    }
   ],
   "source": [
    "print(data.head(10))"
   ]
  },
  {
   "cell_type": "code",
   "execution_count": 5,
   "id": "83c40d01",
   "metadata": {},
   "outputs": [
    {
     "name": "stdout",
     "output_type": "stream",
     "text": [
      "     PassengerId  Survived  PassangerClass  \\\n",
      "0              1         0               3   \n",
      "1              2         1               1   \n",
      "2              3         1               3   \n",
      "3              4         1               1   \n",
      "4              5         0               3   \n",
      "..           ...       ...             ...   \n",
      "886          887         0               2   \n",
      "887          888         1               1   \n",
      "888          889         0               3   \n",
      "889          890         1               1   \n",
      "890          891         0               3   \n",
      "\n",
      "                                                  Name     Sex   Age  SibSp  \\\n",
      "0                              Braund, Mr. Owen Harris    male  22.0      1   \n",
      "1    Cumings, Mrs. John Bradley (Florence Briggs Th...  female  38.0      1   \n",
      "2                               Heikkinen, Miss. Laina  female  26.0      0   \n",
      "3         Futrelle, Mrs. Jacques Heath (Lily May Peel)  female  35.0      1   \n",
      "4                             Allen, Mr. William Henry    male  35.0      0   \n",
      "..                                                 ...     ...   ...    ...   \n",
      "886                              Montvila, Rev. Juozas    male  27.0      0   \n",
      "887                       Graham, Miss. Margaret Edith  female  19.0      0   \n",
      "888           Johnston, Miss. Catherine Helen \"Carrie\"  female   NaN      1   \n",
      "889                              Behr, Mr. Karl Howell    male  26.0      0   \n",
      "890                                Dooley, Mr. Patrick    male  32.0      0   \n",
      "\n",
      "     Parch            Ticket     Fare Cabin Embarked  \n",
      "0        0         A/5 21171   7.2500   NaN        S  \n",
      "1        0          PC 17599  71.2833   C85        C  \n",
      "2        0  STON/O2. 3101282   7.9250   NaN        S  \n",
      "3        0            113803  53.1000  C123        S  \n",
      "4        0            373450   8.0500   NaN        S  \n",
      "..     ...               ...      ...   ...      ...  \n",
      "886      0            211536  13.0000   NaN        S  \n",
      "887      0            112053  30.0000   B42        S  \n",
      "888      2        W./C. 6607  23.4500   NaN        S  \n",
      "889      0            111369  30.0000  C148        C  \n",
      "890      0            370376   7.7500   NaN        Q  \n",
      "\n",
      "[891 rows x 12 columns]\n"
     ]
    }
   ],
   "source": [
    "data.rename(columns={'Pclass': 'PassangerClass'}, inplace=True)\n",
    "print(data)"
   ]
  },
  {
   "cell_type": "code",
   "execution_count": 4,
   "id": "a3c6913c",
   "metadata": {},
   "outputs": [
    {
     "data": {
      "image/png": "[encoded data removed]",
      "text/plain": [
       "<Figure size 640x480 with 1 Axes>"
      ]
     },
     "metadata": {},
     "output_type": "display_data"
    }
   ],
   "source": [
    "'''BarGraph Example'''\n",
    "import matplotlib.pyplot as plt\n",
    "x = [1, 2, 3, 4, 5]\n",
    "y = [2, 3, 5, 7, 11]\n",
    "\n",
    "plt.bar(x, y, color=\"blue\")\n",
    "plt.title('Bar Graph Example')\n",
    "plt.xlabel('X-axis')\n",
    "plt.ylabel('Y-axis')\n",
    "plt.show()"
   ]
  },
  {
   "cell_type": "code",
   "execution_count": 3,
   "id": "84b62103",
   "metadata": {},
   "outputs": [
    {
     "name": "stdout",
     "output_type": "stream",
     "text": [
      "<class 'pandas.core.frame.DataFrame'>\n",
      "RangeIndex: 891 entries, 0 to 890\n",
      "Data columns (total 12 columns):\n",
      " #   Column       Non-Null Count  Dtype  \n",
      "---  ------       --------------  -----  \n",
      " 0   PassengerId  891 non-null    int64  \n",
      " 1   Survived     891 non-null    int64  \n",
      " 2   Pclass       891 non-null    int64  \n",
      " 3   Name         891 non-null    object \n",
      " 4   Sex          891 non-null    object \n",
      " 5   Age          714 non-null    float64\n",
      " 6   SibSp        891 non-null    int64  \n",
      " 7   Parch        891 non-null    int64  \n",
      " 8   Ticket       891 non-null    object \n",
      " 9   Fare         891 non-null    float64\n",
      " 10  Cabin        204 non-null    object \n",
      " 11  Embarked     889 non-null    object \n",
      "dtypes: float64(2), int64(5), object(5)\n",
      "memory usage: 83.7+ KB\n",
      "None\n"
     ]
    }
   ],
   "source": [
    "print(data.info())"
   ]
  },
  {
   "cell_type": "code",
   "execution_count": 2,
   "id": "7e69ff10",
   "metadata": {},
   "outputs": [
    {
     "name": "stdout",
     "output_type": "stream",
     "text": [
      "     PassengerId  Survived  Pclass  \\\n",
      "0              1         0       3   \n",
      "1              2         1       1   \n",
      "2              3         1       3   \n",
      "3              4         1       1   \n",
      "4              5         0       3   \n",
      "..           ...       ...     ...   \n",
      "886          887         0       2   \n",
      "887          888         1       1   \n",
      "888          889         0       3   \n",
      "889          890         1       1   \n",
      "890          891         0       3   \n",
      "\n",
      "                                                  Name     Sex   Age  SibSp  \\\n",
      "0                              Braund, Mr. Owen Harris    male  22.0      1   \n",
      "1    Cumings, Mrs. John Bradley (Florence Briggs Th...  female  38.0      1   \n",
      "2                               Heikkinen, Miss. Laina  female  26.0      0   \n",
      "3         Futrelle, Mrs. Jacques Heath (Lily May Peel)  female  35.0      1   \n",
      "4                             Allen, Mr. William Henry    male  35.0      0   \n",
      "..                                                 ...     ...   ...    ...   \n",
      "886                              Montvila, Rev. Juozas    male  27.0      0   \n",
      "887                       Graham, Miss. Margaret Edith  female  19.0      0   \n",
      "888           Johnston, Miss. Catherine Helen \"Carrie\"  female   NaN      1   \n",
      "889                              Behr, Mr. Karl Howell    male  26.0      0   \n",
      "890                                Dooley, Mr. Patrick    male  32.0      0   \n",
      "\n",
      "     Parch            Ticket     Fare Cabin Embarked  \n",
      "0        0         A/5 21171   7.2500   NaN        S  \n",
      "1        0          PC 17599  71.2833   C85        C  \n",
      "2        0  STON/O2. 3101282   7.9250   NaN        S  \n",
      "3        0            113803  53.1000  C123        S  \n",
      "4        0            373450   8.0500   NaN        S  \n",
      "..     ...               ...      ...   ...      ...  \n",
      "886      0            211536  13.0000   NaN        S  \n",
      "887      0            112053  30.0000   B42        S  \n",
      "888      2        W./C. 6607  23.4500   NaN        S  \n",
      "889      0            111369  30.0000  C148        C  \n",
      "890      0            370376   7.7500   NaN        Q  \n",
      "\n",
      "[891 rows x 12 columns]\n"
     ]
    }
   ],
   "source": [
    "\n",
    "import pandas as pd\n",
    "data=pd.read_csv(\"Titanic-Dataset.csv\")\n",
    "print(data)"
   ]
  },
  {
   "cell_type": "code",
   "execution_count": null,
   "id": "ade96e33",
   "metadata": {},
   "outputs": [
    {
     "data": {
      "image/png": "[encoded data removed]",
      "text/plain": [
       "<Figure size 640x480 with 1 Axes>"
      ]
     },
     "metadata": {},
     "output_type": "display_data"
    }
   ],
   "source": [
    "'''Pie Chart Example'''\n",
    "import matplotlib.pyplot as plt\n",
    "labels=['python','c++','java','javascript']\n",
    "sizes=[215,130,245,210]\n",
    "plt.pie(sizes, labels=labels, autopct='%1.1f%%', startangle=90)\n",
    "plt.axis('equal')  # Equal aspect ratio ensures the pie is circular.\n",
    "plt.title('Pie Chart')\n",
    "plt.show()"
   ]
  },
  {
   "cell_type": "code",
   "execution_count": 9,
   "id": "61e1238a",
   "metadata": {},
   "outputs": [
    {
     "name": "stdout",
     "output_type": "stream",
     "text": [
      "     PassengerId  Survived  Pclass  \\\n",
      "0              1         0       3   \n",
      "1              2         1       1   \n",
      "2              3         1       3   \n",
      "3              4         1       1   \n",
      "4              5         0       3   \n",
      "..           ...       ...     ...   \n",
      "886          887         0       2   \n",
      "887          888         1       1   \n",
      "888          889         0       3   \n",
      "889          890         1       1   \n",
      "890          891         0       3   \n",
      "\n",
      "                                                  Name     Sex   Age  SibSp  \\\n",
      "0                              Braund, Mr. Owen Harris    male  22.0      1   \n",
      "1    Cumings, Mrs. John Bradley (Florence Briggs Th...  female  38.0      1   \n",
      "2                               Heikkinen, Miss. Laina  female  26.0      0   \n",
      "3         Futrelle, Mrs. Jacques Heath (Lily May Peel)  female  35.0      1   \n",
      "4                             Allen, Mr. William Henry    male  35.0      0   \n",
      "..                                                 ...     ...   ...    ...   \n",
      "886                              Montvila, Rev. Juozas    male  27.0      0   \n",
      "887                       Graham, Miss. Margaret Edith  female  19.0      0   \n",
      "888           Johnston, Miss. Catherine Helen \"Carrie\"  female   NaN      1   \n",
      "889                              Behr, Mr. Karl Howell    male  26.0      0   \n",
      "890                                Dooley, Mr. Patrick    male  32.0      0   \n",
      "\n",
      "     Parch            Ticket     Fare Cabin Embarked  \n",
      "0        0         A/5 21171   7.2500   NaN        S  \n",
      "1        0          PC 17599  71.2833   C85        C  \n",
      "2        0  STON/O2. 3101282   7.9250   NaN        S  \n",
      "3        0            113803  53.1000  C123        S  \n",
      "4        0            373450   8.0500   NaN        S  \n",
      "..     ...               ...      ...   ...      ...  \n",
      "886      0            211536  13.0000   NaN        S  \n",
      "887      0            112053  30.0000   B42        S  \n",
      "888      2        W./C. 6607  23.4500   NaN        S  \n",
      "889      0            111369  30.0000  C148        C  \n",
      "890      0            370376   7.7500   NaN        Q  \n",
      "\n",
      "[891 rows x 12 columns]\n"
     ]
    }
   ],
   "source": [
    "import pandas as pd\n",
    "data=pd.read_csv(\"Titanic-Dataset.csv\")\n",
    "print(data)"
   ]
  },
  {
   "cell_type": "code",
   "execution_count": 11,
   "id": "dda42467",
   "metadata": {},
   "outputs": [
    {
     "data": {
      "image/png": "[encoded data removed]",
      "text/plain": [
       "<Figure size 640x480 with 1 Axes>"
      ]
     },
     "metadata": {},
     "output_type": "display_data"
    }
   ],
   "source": [
    "import matplotlib.pyplot as plt\n",
    "import numpy as np\n",
    "\n",
    "data = np.random.randn(1000)\n",
    "\n",
    "plt.hist(data, bins=30, color='skyblue', edgecolor='black')\n",
    "plt.xlabel('Values')\n",
    "plt.ylabel('Frequency')\n",
    "plt.title('Histogram Example')\n",
    "plt.show()\n"
   ]
  },
  {
   "cell_type": "code",
   "execution_count": 13,
   "id": "7641f51c",
   "metadata": {},
   "outputs": [
    {
     "name": "stdout",
     "output_type": "stream",
     "text": [
      "   PassengerId  Survived  Pclass  \\\n",
      "0            1         0       3   \n",
      "1            2         1       1   \n",
      "2            3         1       3   \n",
      "3            4         1       1   \n",
      "4            5         0       3   \n",
      "\n",
      "                                                Name     Sex   Age  SibSp  \\\n",
      "0                            Braund, Mr. Owen Harris    male  22.0      1   \n",
      "1  Cumings, Mrs. John Bradley (Florence Briggs Th...  female  38.0      1   \n",
      "2                             Heikkinen, Miss. Laina  female  26.0      0   \n",
      "3       Futrelle, Mrs. Jacques Heath (Lily May Peel)  female  35.0      1   \n",
      "4                           Allen, Mr. William Henry    male  35.0      0   \n",
      "\n",
      "   Parch            Ticket     Fare Cabin Embarked  \n",
      "0      0         A/5 21171   7.2500   NaN        S  \n",
      "1      0          PC 17599  71.2833   C85        C  \n",
      "2      0  STON/O2. 3101282   7.9250   NaN        S  \n",
      "3      0            113803  53.1000  C123        S  \n",
      "4      0            373450   8.0500   NaN        S  \n",
      "Index(['PassengerId', 'Survived', 'Pclass', 'Name', 'Sex', 'Age', 'SibSp',\n",
      "       'Parch', 'Ticket', 'Fare', 'Cabin', 'Embarked'],\n",
      "      dtype='object')\n"
     ]
    }
   ],
   "source": [
    "import pandas as pd\n",
    "\n",
    "# Load the dataset\n",
    "data = pd.read_csv('titanic-dataset.csv')  # Replace with your actual path\n",
    "\n",
    "# Check the first few rows\n",
    "print(data.head())\n",
    "\n",
    "# Check column names\n",
    "print(data.columns)\n"
   ]
  },
  {
   "cell_type": "code",
   "execution_count": 28,
   "id": "3f339d1b",
   "metadata": {},
   "outputs": [
    {
     "name": "stdout",
     "output_type": "stream",
     "text": [
      "   S.No.                              Name    Location  Year  \\\n",
      "0      0            Maruti Wagon R LXI CNG      Mumbai  2010   \n",
      "1      1  Hyundai Creta 1.6 CRDi SX Option        Pune  2015   \n",
      "2      2                      Honda Jazz V     Chennai  2011   \n",
      "3      3                 Maruti Ertiga VDI     Chennai  2012   \n",
      "4      4   Audi A4 New 2.0 TDI Multitronic  Coimbatore  2013   \n",
      "\n",
      "   Kilometers_Driven Fuel_Type Transmission Owner_Type     Mileage   Engine  \\\n",
      "0              72000       CNG       Manual      First  26.6 km/kg   998 CC   \n",
      "1              41000    Diesel       Manual      First  19.67 kmpl  1582 CC   \n",
      "2              46000    Petrol       Manual      First   18.2 kmpl  1199 CC   \n",
      "3              87000    Diesel       Manual      First  20.77 kmpl  1248 CC   \n",
      "4              40670    Diesel    Automatic     Second   15.2 kmpl  1968 CC   \n",
      "\n",
      "       Power  Seats  New_Price  Price  \n",
      "0  58.16 bhp    5.0        NaN   1.75  \n",
      "1  126.2 bhp    5.0        NaN  12.50  \n",
      "2   88.7 bhp    5.0  8.61 Lakh   4.50  \n",
      "3  88.76 bhp    7.0        NaN   6.00  \n",
      "4  140.8 bhp    5.0      17.74    NaN  \n"
     ]
    }
   ],
   "source": [
    "import pandas as pd\n",
    "data = pd.read_csv(\"used_cars_data.csv\")  # Replace with your actual path\n",
    "\n",
    "# Check the first few rows\n",
    "print(data.head())\n"
   ]
  },
  {
   "cell_type": "code",
   "execution_count": 24,
   "id": "99cf5918",
   "metadata": {},
   "outputs": [
    {
     "data": {
      "text/html": [
       "<div>\n",
       "<style scoped>\n",
       "    .dataframe tbody tr th:only-of-type {\n",
       "        vertical-align: middle;\n",
       "    }\n",
       "\n",
       "    .dataframe tbody tr th {\n",
       "        vertical-align: top;\n",
       "    }\n",
       "\n",
       "    .dataframe thead th {\n",
       "        text-align: right;\n",
       "    }\n",
       "</style>\n",
       "<table border=\"1\" class=\"dataframe\">\n",
       "  <thead>\n",
       "    <tr style=\"text-align: right;\">\n",
       "      <th></th>\n",
       "      <th>S.No.</th>\n",
       "      <th>Name</th>\n",
       "      <th>Location</th>\n",
       "      <th>Year</th>\n",
       "      <th>Kilometers_Driven</th>\n",
       "      <th>Fuel_Type</th>\n",
       "      <th>Transmission</th>\n",
       "      <th>Owner_Type</th>\n",
       "      <th>Mileage</th>\n",
       "      <th>Engine</th>\n",
       "      <th>Power</th>\n",
       "      <th>Seats</th>\n",
       "      <th>New_Price</th>\n",
       "      <th>Price</th>\n",
       "      <th>Car_Age</th>\n",
       "    </tr>\n",
       "  </thead>\n",
       "  <tbody>\n",
       "    <tr>\n",
       "      <th>0</th>\n",
       "      <td>0</td>\n",
       "      <td>Maruti Wagon R LXI CNG</td>\n",
       "      <td>Mumbai</td>\n",
       "      <td>2010</td>\n",
       "      <td>72000</td>\n",
       "      <td>CNG</td>\n",
       "      <td>Manual</td>\n",
       "      <td>First</td>\n",
       "      <td>26.6 km/kg</td>\n",
       "      <td>998 CC</td>\n",
       "      <td>58.16 bhp</td>\n",
       "      <td>5.0</td>\n",
       "      <td>NaN</td>\n",
       "      <td>1.75</td>\n",
       "      <td>15</td>\n",
       "    </tr>\n",
       "    <tr>\n",
       "      <th>1</th>\n",
       "      <td>1</td>\n",
       "      <td>Hyundai Creta 1.6 CRDi SX Option</td>\n",
       "      <td>Pune</td>\n",
       "      <td>2015</td>\n",
       "      <td>41000</td>\n",
       "      <td>Diesel</td>\n",
       "      <td>Manual</td>\n",
       "      <td>First</td>\n",
       "      <td>19.67 kmpl</td>\n",
       "      <td>1582 CC</td>\n",
       "      <td>126.2 bhp</td>\n",
       "      <td>5.0</td>\n",
       "      <td>NaN</td>\n",
       "      <td>12.50</td>\n",
       "      <td>10</td>\n",
       "    </tr>\n",
       "    <tr>\n",
       "      <th>2</th>\n",
       "      <td>2</td>\n",
       "      <td>Honda Jazz V</td>\n",
       "      <td>Chennai</td>\n",
       "      <td>2011</td>\n",
       "      <td>46000</td>\n",
       "      <td>Petrol</td>\n",
       "      <td>Manual</td>\n",
       "      <td>First</td>\n",
       "      <td>18.2 kmpl</td>\n",
       "      <td>1199 CC</td>\n",
       "      <td>88.7 bhp</td>\n",
       "      <td>5.0</td>\n",
       "      <td>8.61 Lakh</td>\n",
       "      <td>4.50</td>\n",
       "      <td>14</td>\n",
       "    </tr>\n",
       "    <tr>\n",
       "      <th>3</th>\n",
       "      <td>3</td>\n",
       "      <td>Maruti Ertiga VDI</td>\n",
       "      <td>Chennai</td>\n",
       "      <td>2012</td>\n",
       "      <td>87000</td>\n",
       "      <td>Diesel</td>\n",
       "      <td>Manual</td>\n",
       "      <td>First</td>\n",
       "      <td>20.77 kmpl</td>\n",
       "      <td>1248 CC</td>\n",
       "      <td>88.76 bhp</td>\n",
       "      <td>7.0</td>\n",
       "      <td>NaN</td>\n",
       "      <td>6.00</td>\n",
       "      <td>13</td>\n",
       "    </tr>\n",
       "    <tr>\n",
       "      <th>4</th>\n",
       "      <td>4</td>\n",
       "      <td>Audi A4 New 2.0 TDI Multitronic</td>\n",
       "      <td>Coimbatore</td>\n",
       "      <td>2013</td>\n",
       "      <td>40670</td>\n",
       "      <td>Diesel</td>\n",
       "      <td>Automatic</td>\n",
       "      <td>Second</td>\n",
       "      <td>15.2 kmpl</td>\n",
       "      <td>1968 CC</td>\n",
       "      <td>140.8 bhp</td>\n",
       "      <td>5.0</td>\n",
       "      <td>17.74</td>\n",
       "      <td>NaN</td>\n",
       "      <td>12</td>\n",
       "    </tr>\n",
       "  </tbody>\n",
       "</table>\n",
       "</div>"
      ],
      "text/plain": [
       "   S.No.                              Name    Location  Year  \\\n",
       "0      0            Maruti Wagon R LXI CNG      Mumbai  2010   \n",
       "1      1  Hyundai Creta 1.6 CRDi SX Option        Pune  2015   \n",
       "2      2                      Honda Jazz V     Chennai  2011   \n",
       "3      3                 Maruti Ertiga VDI     Chennai  2012   \n",
       "4      4   Audi A4 New 2.0 TDI Multitronic  Coimbatore  2013   \n",
       "\n",
       "   Kilometers_Driven Fuel_Type Transmission Owner_Type     Mileage   Engine  \\\n",
       "0              72000       CNG       Manual      First  26.6 km/kg   998 CC   \n",
       "1              41000    Diesel       Manual      First  19.67 kmpl  1582 CC   \n",
       "2              46000    Petrol       Manual      First   18.2 kmpl  1199 CC   \n",
       "3              87000    Diesel       Manual      First  20.77 kmpl  1248 CC   \n",
       "4              40670    Diesel    Automatic     Second   15.2 kmpl  1968 CC   \n",
       "\n",
       "       Power  Seats  New_Price  Price  Car_Age  \n",
       "0  58.16 bhp    5.0        NaN   1.75       15  \n",
       "1  126.2 bhp    5.0        NaN  12.50       10  \n",
       "2   88.7 bhp    5.0  8.61 Lakh   4.50       14  \n",
       "3  88.76 bhp    7.0        NaN   6.00       13  \n",
       "4  140.8 bhp    5.0      17.74    NaN       12  "
      ]
     },
     "execution_count": 24,
     "metadata": {},
     "output_type": "execute_result"
    }
   ],
   "source": [
    "from datetime import date\n",
    "date.today().year\n",
    "data['Car_Age']=date.today().year-data['Year']\n",
    "data.head()"
   ]
  },
  {
   "cell_type": "code",
   "execution_count": 7,
   "id": "36f7ffad",
   "metadata": {},
   "outputs": [],
   "source": [
    "data['Brand'] = data.Name.str.split().str.get(0)"
   ]
  },
  {
   "cell_type": "code",
   "execution_count": 8,
   "id": "77c77179",
   "metadata": {},
   "outputs": [
    {
     "name": "stdout",
     "output_type": "stream",
     "text": [
      "['Braund,' 'Cumings,' 'Heikkinen,' 'Futrelle,' 'Allen,' 'Moran,'\n",
      " 'McCarthy,' 'Palsson,' 'Johnson,' 'Nasser,' 'Sandstrom,' 'Bonnell,'\n",
      " 'Saundercock,' 'Andersson,' 'Vestrom,' 'Hewlett,' 'Rice,' 'Williams,'\n",
      " 'Vander' 'Masselmani,' 'Fynney,' 'Beesley,' 'McGowan,' 'Sloper,'\n",
      " 'Asplund,' 'Emir,' 'Fortune,' \"O'Dwyer,\" 'Todoroff,' 'Uruchurtu,'\n",
      " 'Spencer,' 'Glynn,' 'Wheadon,' 'Meyer,' 'Holverson,' 'Mamee,' 'Cann,'\n",
      " 'Nicola-Yarred,' 'Ahlin,' 'Turpin,' 'Kraeff,' 'Laroche,' 'Devaney,'\n",
      " 'Rogers,' 'Lennon,' \"O'Driscoll,\" 'Samaan,' 'Arnold-Franchi,' 'Panula,'\n",
      " 'Nosworthy,' 'Harper,' 'Faunthorpe,' 'Ostby,' 'Woolner,' 'Rugg,' 'Novel,'\n",
      " 'West,' 'Goodwin,' 'Sirayanian,' 'Icard,' 'Harris,' 'Skoog,' 'Stewart,'\n",
      " 'Moubarek,' 'Nye,' 'Crease,' 'Kink,' 'Jenkin,' 'Hood,' 'Chronopoulos,'\n",
      " 'Bing,' 'Moen,' 'Staneff,' 'Moutal,' 'Caldwell,' 'Dowdell,' 'Waelens,'\n",
      " 'Sheerlinck,' 'McDermott,' 'Carrau,' 'Ilett,' 'Backstrom,' 'Ford,'\n",
      " 'Slocovski,' 'Celotti,' 'Christmann,' 'Andreasson,' 'Chaffee,' 'Dean,'\n",
      " 'Coxon,' 'Shorney,' 'Goldschmidt,' 'Greenfield,' 'Doling,' 'Kantor,'\n",
      " 'Petranec,' 'Petroff,' 'White,' 'Johansson,' 'Gustafsson,' 'Mionoff,'\n",
      " 'Salkjelsvik,' 'Moss,' 'Rekic,' 'Porter,' 'Zabour,' 'Barton,' 'Jussila,'\n",
      " 'Attalah,' 'Pekoniemi,' 'Connors,' 'Baxter,' 'Hickman,' 'Moore,'\n",
      " 'Webber,' 'McMahon,' 'Madsen,' 'Peter,' 'Ekstrom,' 'Drazenoic,' 'Coelho,'\n",
      " 'Robins,' 'Weisz,' 'Sobey,' 'Richard,' 'Newsom,' 'Osen,' 'Giglio,'\n",
      " 'Boulos,' 'Nysten,' 'Hakkarainen,' 'Burke,' 'Andrew,' 'Nicholls,'\n",
      " 'Navratil,' 'Byles,' 'Bateman,' 'Pears,' 'Meo,' 'van' 'Olsen,' 'Gilnagh,'\n",
      " 'Corn,' 'Smiljanic,' 'Sage,' 'Cribb,' 'Watt,' 'Bengtsson,' 'Calic,'\n",
      " 'Goldsmith,' 'Chibnall,' 'Baumann,' 'Ling,' 'Van' 'Sivola,' 'Smith,'\n",
      " 'Klasen,' 'Lefebre,' 'Isham,' 'Hale,' 'Leonard,' 'Pernot,' 'Becker,'\n",
      " 'Kink-Heilmann,' 'Rood,' \"O'Brien,\" 'Romaine,' 'Bourke,' 'Turcin,'\n",
      " 'Pinsky,' 'Carbines,' 'Andersen-Jensen,' 'Brown,' 'Lurette,' 'Mernagh,'\n",
      " 'Madigan,' 'Yrois,' 'Vande' 'Johanson,' 'Youseff,' 'Cohen,' 'Strom,'\n",
      " 'Albimona,' 'Carr,' 'Blank,' 'Ali,' 'Cameron,' 'Perkin,' 'Givard,'\n",
      " 'Kiernan,' 'Newell,' 'Honkanen,' 'Jacobsohn,' 'Bazzani,' 'Sunderland,'\n",
      " 'Bracken,' 'Green,' 'Nenkoff,' 'Hoyt,' 'Berglund,' 'Mellors,' 'Lovell,'\n",
      " 'Fahlstrom,' 'Larsson,' 'Sjostedt,' 'Leyson,' 'Harknett,' 'Hold,'\n",
      " 'Collyer,' 'Pengelly,' 'Hunt,' 'Murphy,' 'Coleridge,' 'Maenpaa,'\n",
      " 'Minahan,' 'Lindahl,' 'Hamalainen,' 'Beckwith,' 'Carter,' 'Reed,'\n",
      " 'Stead,' 'Lobb,' 'Rosblom,' 'Touma,' 'Thorne,' 'Cherry,' 'Ward,'\n",
      " 'Parrish,' 'Taussig,' 'Harrison,' 'Henry,' 'Reeves,' 'Persson,' 'Graham,'\n",
      " 'Bissette,' 'Cairns,' 'Tornquist,' 'Mellinger,' 'Natsch,' 'Healy,'\n",
      " 'Andrews,' 'Lindblom,' 'Parkes,' 'Abbott,' 'Duane,' 'Olsson,' 'de'\n",
      " 'Dorking,' 'Stankovic,' 'Naidenoff,' 'Hosono,' 'Connolly,' 'Barber,'\n",
      " 'Bishop,' 'Levy,' 'Haas,' 'Mineff,' 'Lewy,' 'Hanna,' 'Allison,'\n",
      " 'Saalfeld,' 'Kelly,' 'McCoy,' 'Keane,' 'Fleming,' 'Penasco' 'Abelson,'\n",
      " 'Francatelli,' 'Hays,' 'Ryerson,' 'Lahtinen,' 'Hendekovic,' 'Hart,'\n",
      " 'Nilsson,' 'Moraweck,' 'Wick,' 'Spedden,' 'Dennis,' 'Danoff,' 'Slayter,'\n",
      " 'Young,' 'Nysveen,' 'Ball,' 'Hippach,' 'Partner,' 'Frauenthal,'\n",
      " 'Denkoff,' 'Burns,' 'Dahl,' 'Blackwell,' 'Collander,' 'Sedgwick,' 'Fox,'\n",
      " 'Davison,' 'Coutts,' 'Dimic,' 'Odahl,' 'Williams-Lambert,' 'Elias,'\n",
      " 'Yousif,' 'Vanden' 'Bowerman,' 'Funk,' 'McGovern,' 'Mockler,' 'del'\n",
      " 'Barbara,' 'Asim,' 'Adahl,' 'Warren,' 'Moussa,' 'Jermyn,' 'Aubart,'\n",
      " 'Harder,' 'Wiklund,' 'Beavan,' 'Ringhini,' 'Landergren,' 'Widener,'\n",
      " 'Betros,' 'Bidois,' 'Nakid,' 'Tikkanen,' 'Plotcharsky,' 'Davies,' 'Buss,'\n",
      " 'Sadlier,' 'Lehmann,' 'Jansson,' 'McKane,' 'Pain,' 'Trout,' 'Niskanen,'\n",
      " 'Adams,' 'Oreskovic,' 'Gale,' 'Widegren,' 'Richards,' 'Birkeland,'\n",
      " 'Sdycoff,' 'Cunningham,' 'Sundman,' 'Meek,' 'Drew,' 'Silven,' 'Matthews,'\n",
      " 'Gheorgheff,' 'Charters,' 'Zimmerman,' 'Danbom,' 'Wiseman,' 'Clarke,'\n",
      " 'Phillips,' 'Flynn,' 'Pickard,' 'Bjornstrom-Steffansson,' 'Thorneycroft,'\n",
      " 'Louch,' 'Kallio,' 'Silvey,' 'Kvillner,' 'Hampe,' 'Petterson,'\n",
      " 'Reynaldo,' 'Johannesen-Bratthammer,' 'Dodge,' 'Seward,' 'Baclini,'\n",
      " 'Peuchen,' 'Hagland,' 'Foreman,' 'Goldenberg,' 'Peduzzi,' 'Jalsevac,'\n",
      " 'Millet,' 'Kenyon,' 'Toomey,' \"O'Connor,\" 'Anderson,' 'Morley,' 'Gee,'\n",
      " 'Milling,' 'Maisner,' 'Goncalves,' 'Campbell,' 'Smart,' 'Scanlan,'\n",
      " 'Keefe,' 'Cacic,' 'Jerwan,' 'Strandberg,' 'Clifford,' 'Renouf,'\n",
      " 'Karlsson,' 'Hirvonen,' 'Frost,' 'Rouse,' 'Turkula,' 'Kent,' 'Somerton,'\n",
      " 'Windelov,' 'Molson,' 'Artagaveytia,' 'Stanley,' 'Yousseff,' 'Eustis,'\n",
      " 'Shellard,' 'Svensson,' 'Canavan,' \"O'Sullivan,\" 'Laitinen,' 'Maioni,'\n",
      " 'Quick,' 'Bradley,' 'Lang,' 'Daly,' 'McGough,' 'Rothschild,' 'Coleff,'\n",
      " 'Walker,' 'Lemore,' 'Ryan,' 'Angle,' 'Pavlovic,' 'Perreault,' 'Vovk,'\n",
      " 'Lahoud,' 'Kassem,' 'Farrell,' 'Ridsdale,' 'Farthing,' 'Salonen,'\n",
      " 'Hocking,' 'Toufik,' 'Butt,' 'LeRoy,' 'Risien,' 'Frolicher,' 'Crosby,'\n",
      " 'Beane,' 'Douglas,' 'Nicholson,' 'Padro' 'Thayer,' 'Sharp,' 'Leeni,'\n",
      " 'Ohman,' 'Wright,' 'Duff' 'Robbins,' 'Morrow,' 'Sivic,' 'Norman,'\n",
      " 'Simmons,' 'Meanwell,' 'Stoytcheff,' 'Doharr,' 'Jonsson,' 'Appleton,'\n",
      " 'Rush,' 'Patchett,' 'Garside,' 'Caram,' 'Christy,' 'Downton,' 'Ross,'\n",
      " 'Paulner,' 'Jarvis,' 'Frolicher-Stehli,' 'Gilinski,' 'Murdlin,'\n",
      " 'Rintamaki,' 'Stephenson,' 'Elsbury,' 'Chapman,' 'Leitch,' 'Slabenoff,'\n",
      " 'Harrington,' 'Torber,' 'Homer,' 'Lindell,' 'Karaic,' 'Daniel,' 'Shutes,'\n",
      " 'Jardin,' 'Horgan,' 'Brocklebank,' 'Herman,' 'Gavey,' 'Yasbeck,'\n",
      " 'Kimball,' 'Hansen,' 'Bowen,' 'Sutton,' 'Kirkland,' 'Longley,'\n",
      " 'Bostandyeff,' \"O'Connell,\" 'Barkworth,' 'Lundahl,' 'Stahelin-Maeglin,'\n",
      " 'Parr,' 'Davis,' 'Leinonen,' 'Jensen,' 'Sagesser,' 'Foo,' 'Cor,'\n",
      " 'Simonius-Blumer,' 'Willey,' 'Mitkoff,' 'Kalvik,' \"O'Leary,\" 'Hegarty,'\n",
      " 'Radeff,' 'Eitemiller,' 'Badt,' 'Colley,' 'Lindqvist,' 'Butler,'\n",
      " 'Rommetvedt,' 'Cook,' 'Taylor,' 'Davidson,' 'Mitchell,' 'Wilhelms,'\n",
      " 'Watson,' 'Edvardsson,' 'Sawyer,' 'Turja,' 'Cardeza,' 'Peters,' 'Hassab,'\n",
      " 'Olsvigen,' 'Dakic,' 'Fischer,' 'Madill,' 'Dick,' 'Karun,' 'Lam,' 'Saad,'\n",
      " 'Weir,' 'Mullens,' 'Humblen,' 'Astor,' 'Silverthorne,' 'Gallagher,'\n",
      " 'Calderhead,' 'Cleaver,' 'Mayne,' 'Klaber,' 'Greenberg,' 'Soholt,'\n",
      " 'Endres,' 'Troutt,' 'McEvoy,' 'Gillespie,' 'Hodges,' 'Chambers,'\n",
      " 'Mannion,' 'Bryhl,' 'Ilmakangas,' 'Hassan,' 'Knight,' 'Berriman,'\n",
      " 'Troupiansky,' 'Lesurer,' 'Ivanoff,' 'Nankoff,' 'Hawksford,' 'Cavendish,'\n",
      " 'McNamee,' 'Stranden,' 'Sinkkonen,' 'Marvin,' 'Connaghton,' 'Wells,'\n",
      " 'Moor,' 'Jonkoff,' 'Carlsson,' 'Bailey,' 'Theobald,' 'Rothes,'\n",
      " 'Garfirth,' 'Nirva,' 'Barah,' 'Eklund,' 'Hogeboom,' 'Brewe,' 'Mangan,'\n",
      " 'Gronnestad,' 'Lievens,' 'Mack,' 'Myhrman,' 'Tobin,' 'Emanuel,'\n",
      " 'Kilgannon,' 'Robert,' 'Ayoub,' 'Long,' 'Johnston,' 'Harmer,' 'Sjoblom,'\n",
      " 'Guggenheim,' 'Gaskell,' 'Dantcheff,' 'Otter,' 'Leader,' 'Osman,'\n",
      " 'Ibrahim' 'Ponesell,' 'Thomas,' 'Hedman,' 'Pettersson,' 'Alexander,'\n",
      " 'Lester,' 'Slemen,' 'Tomlin,' 'Fry,' 'Heininen,' 'Mallet,' 'Holm,'\n",
      " 'Lulic,' 'Reuchlin,' 'McCormack,' 'Stone,' 'Augustsson,' 'Allum,'\n",
      " 'Compton,' 'Pasic,' 'Sirota,' 'Chip,' 'Marechal,' 'Alhomaki,' 'Mudd,'\n",
      " 'Serepeca,' 'Lemberopolous,' 'Culumovic,' 'Abbing,' 'Markoff,' 'Lines,'\n",
      " 'Aks,' 'Razi,' 'Giles,' 'Swift,' 'Gill,' 'Bystrom,' 'Duran' 'Roebling,'\n",
      " 'Balkic,' 'Najib,' 'Laleff,' 'Potter,' 'Shelley,' 'Markun,' 'Dahlberg,'\n",
      " 'Banfield,' 'Sutehall,' 'Montvila,' 'Behr,' 'Dooley,']\n",
      "661\n"
     ]
    }
   ],
   "source": [
    "print(data.Brand.unique())\n",
    "print(data.Brand.nunique())\n"
   ]
  },
  {
   "cell_type": "code",
   "execution_count": 14,
   "id": "01c216ee",
   "metadata": {},
   "outputs": [
    {
     "data": {
      "image/png": "[encoded data removed]",
      "text/plain": [
       "<Figure size 600x600 with 1 Axes>"
      ]
     },
     "metadata": {},
     "output_type": "display_data"
    }
   ],
   "source": [
    "#pie chart for titanic-dataset\n",
    "import pandas as pd\n",
    "import matplotlib.pyplot as plt\n",
    "\n",
    "df = pd.read_csv('Titanic-Dataset.csv')\n",
    "\n",
    "survival_counts = df['Survived'].value_counts()\n",
    "labels = ['Not Survived', 'Survived']\n",
    "\n",
    "plt.figure(figsize=(6,6))\n",
    "plt.pie(survival_counts, labels=labels, autopct='%1.1f%%', startangle=90, explode=[0, 0.1], shadow=True)\n",
    "plt.title('Survival Distribution')\n",
    "plt.show()\n"
   ]
  },
  {
   "cell_type": "code",
   "execution_count": 18,
   "id": "f7cbbd36",
   "metadata": {},
   "outputs": [
    {
     "data": {
      "image/png": "[encoded data removed]",
      "text/plain": [
       "<Figure size 800x600 with 1 Axes>"
      ]
     },
     "metadata": {},
     "output_type": "display_data"
    }
   ],
   "source": [
    "import seaborn as sns\n",
    "import matplotlib.pyplot as plt\n",
    "\n",
    "# Bar chart: Survival by class\n",
    "plt.figure(figsize=(8,6))\n",
    "sns.countplot(x='Pclass', hue='Survived', data=df, palette='Set2')\n",
    "plt.title('Survival Count by Passenger Class')\n",
    "plt.xlabel('Passenger Class')\n",
    "plt.ylabel('Count')\n",
    "plt.legend(title='Survived', labels=['No', 'Yes'])\n",
    "plt.show()\n"
   ]
  },
  {
   "cell_type": "code",
   "execution_count": 19,
   "id": "6442132d",
   "metadata": {},
   "outputs": [
    {
     "data": {
      "image/png": "[encoded data removed]",
      "text/plain": [
       "<Figure size 800x600 with 1 Axes>"
      ]
     },
     "metadata": {},
     "output_type": "display_data"
    }
   ],
   "source": [
    "# Histogram: Age distribution\n",
    "plt.figure(figsize=(8,6))\n",
    "plt.hist(df['Age'].dropna(), bins=30, color='skyblue', edgecolor='black')\n",
    "plt.title('Age Distribution of Passengers')\n",
    "plt.xlabel('Age')\n",
    "plt.ylabel('Frequency')\n",
    "plt.show()\n"
   ]
  },
  {
   "cell_type": "code",
   "execution_count": 10,
   "id": "1bc51d18",
   "metadata": {},
   "outputs": [
    {
     "name": "stdout",
     "output_type": "stream",
     "text": [
      "   PassengerId  Survived  Pclass  \\\n",
      "0            1         0       3   \n",
      "1            2         1       1   \n",
      "2            3         1       3   \n",
      "3            4         1       1   \n",
      "4            5         0       3   \n",
      "\n",
      "                                                Name     Sex   Age  SibSp  \\\n",
      "0                            Braund, Mr. Owen Harris    male  22.0      1   \n",
      "1  Cumings, Mrs. John Bradley (Florence Briggs Th...  female  38.0      1   \n",
      "2                             Heikkinen, Miss. Laina  female  26.0      0   \n",
      "3       Futrelle, Mrs. Jacques Heath (Lily May Peel)  female  35.0      1   \n",
      "4                           Allen, Mr. William Henry    male  35.0      0   \n",
      "\n",
      "   Parch            Ticket     Fare Cabin Embarked  \n",
      "0      0         A/5 21171   7.2500   NaN        S  \n",
      "1      0          PC 17599  71.2833   C85        C  \n",
      "2      0  STON/O2. 3101282   7.9250   NaN        S  \n",
      "3      0            113803  53.1000  C123        S  \n",
      "4      0            373450   8.0500   NaN        S  \n"
     ]
    }
   ],
   "source": [
    "print(data.head())"
   ]
  },
  {
   "cell_type": "code",
   "execution_count": 11,
   "id": "66e96c23",
   "metadata": {},
   "outputs": [
    {
     "name": "stdout",
     "output_type": "stream",
     "text": [
      "PassengerId    891\n",
      "Survived         2\n",
      "Pclass           3\n",
      "Name           891\n",
      "Sex              2\n",
      "Age             88\n",
      "SibSp            7\n",
      "Parch            7\n",
      "Ticket         681\n",
      "Fare           248\n",
      "Cabin          147\n",
      "Embarked         3\n",
      "dtype: int64\n"
     ]
    }
   ],
   "source": [
    "print(data.nunique())"
   ]
  },
  {
   "cell_type": "code",
   "execution_count": 12,
   "id": "b965d531",
   "metadata": {},
   "outputs": [
    {
     "data": {
      "text/plain": [
       "PassengerId     0.000000\n",
       "Survived        0.000000\n",
       "Pclass          0.000000\n",
       "Name            0.000000\n",
       "Sex             0.000000\n",
       "Age            19.865320\n",
       "SibSp           0.000000\n",
       "Parch           0.000000\n",
       "Ticket          0.000000\n",
       "Fare            0.000000\n",
       "Cabin          77.104377\n",
       "Embarked        0.224467\n",
       "dtype: float64"
      ]
     },
     "execution_count": 12,
     "metadata": {},
     "output_type": "execute_result"
    }
   ],
   "source": [
    "(data.isnull().sum()/(len(data)))*100"
   ]
  },
  {
   "cell_type": "code",
   "execution_count": null,
   "id": "86f8f8c9",
   "metadata": {},
   "outputs": [
    {
     "name": "stdout",
     "output_type": "stream",
     "text": [
      "   Year  Car_Age\n",
      "0  2010       15\n",
      "1  2015       10\n",
      "2  2018        7\n",
      "3  2020        5\n"
     ]
    }
   ],
   "source": [
    "import pandas as pd\n",
    "from datetime import date\n",
    "\n",
    "data = pd.DataFrame({\n",
    "    'Year': [2010, 2015, 2018, 2020]\n",
    "})\n",
    "data['Car_Age'] = date.today().year - data['Year']\n",
    "print(data.head())\n"
   ]
  },
  {
   "cell_type": "code",
   "execution_count": 12,
   "id": "b18f4810",
   "metadata": {},
   "outputs": [
    {
     "data": {
      "text/html": [
       "<div>\n",
       "<style scoped>\n",
       "    .dataframe tbody tr th:only-of-type {\n",
       "        vertical-align: middle;\n",
       "    }\n",
       "\n",
       "    .dataframe tbody tr th {\n",
       "        vertical-align: top;\n",
       "    }\n",
       "\n",
       "    .dataframe thead th {\n",
       "        text-align: right;\n",
       "    }\n",
       "</style>\n",
       "<table border=\"1\" class=\"dataframe\">\n",
       "  <thead>\n",
       "    <tr style=\"text-align: right;\">\n",
       "      <th></th>\n",
       "      <th>count</th>\n",
       "      <th>mean</th>\n",
       "      <th>std</th>\n",
       "      <th>min</th>\n",
       "      <th>25%</th>\n",
       "      <th>50%</th>\n",
       "      <th>75%</th>\n",
       "      <th>max</th>\n",
       "    </tr>\n",
       "  </thead>\n",
       "  <tbody>\n",
       "    <tr>\n",
       "      <th>Year</th>\n",
       "      <td>4.0</td>\n",
       "      <td>2015.75</td>\n",
       "      <td>4.349329</td>\n",
       "      <td>2010.0</td>\n",
       "      <td>2013.75</td>\n",
       "      <td>2016.5</td>\n",
       "      <td>2018.50</td>\n",
       "      <td>2020.0</td>\n",
       "    </tr>\n",
       "    <tr>\n",
       "      <th>Car_Age</th>\n",
       "      <td>4.0</td>\n",
       "      <td>9.25</td>\n",
       "      <td>4.349329</td>\n",
       "      <td>5.0</td>\n",
       "      <td>6.50</td>\n",
       "      <td>8.5</td>\n",
       "      <td>11.25</td>\n",
       "      <td>15.0</td>\n",
       "    </tr>\n",
       "  </tbody>\n",
       "</table>\n",
       "</div>"
      ],
      "text/plain": [
       "         count     mean       std     min      25%     50%      75%     max\n",
       "Year       4.0  2015.75  4.349329  2010.0  2013.75  2016.5  2018.50  2020.0\n",
       "Car_Age    4.0     9.25  4.349329     5.0     6.50     8.5    11.25    15.0"
      ]
     },
     "execution_count": 12,
     "metadata": {},
     "output_type": "execute_result"
    }
   ],
   "source": [
    "data.describe().T"
   ]
  },
  {
   "cell_type": "code",
   "execution_count": 13,
   "id": "ec5ae5d4",
   "metadata": {},
   "outputs": [
    {
     "data": {
      "text/html": [
       "<div>\n",
       "<style scoped>\n",
       "    .dataframe tbody tr th:only-of-type {\n",
       "        vertical-align: middle;\n",
       "    }\n",
       "\n",
       "    .dataframe tbody tr th {\n",
       "        vertical-align: top;\n",
       "    }\n",
       "\n",
       "    .dataframe thead th {\n",
       "        text-align: right;\n",
       "    }\n",
       "</style>\n",
       "<table border=\"1\" class=\"dataframe\">\n",
       "  <thead>\n",
       "    <tr style=\"text-align: right;\">\n",
       "      <th></th>\n",
       "      <th>count</th>\n",
       "      <th>mean</th>\n",
       "      <th>std</th>\n",
       "      <th>min</th>\n",
       "      <th>25%</th>\n",
       "      <th>50%</th>\n",
       "      <th>75%</th>\n",
       "      <th>max</th>\n",
       "    </tr>\n",
       "  </thead>\n",
       "  <tbody>\n",
       "    <tr>\n",
       "      <th>Year</th>\n",
       "      <td>4.0</td>\n",
       "      <td>2015.75</td>\n",
       "      <td>4.349329</td>\n",
       "      <td>2010.0</td>\n",
       "      <td>2013.75</td>\n",
       "      <td>2016.5</td>\n",
       "      <td>2018.50</td>\n",
       "      <td>2020.0</td>\n",
       "    </tr>\n",
       "    <tr>\n",
       "      <th>Car_Age</th>\n",
       "      <td>4.0</td>\n",
       "      <td>9.25</td>\n",
       "      <td>4.349329</td>\n",
       "      <td>5.0</td>\n",
       "      <td>6.50</td>\n",
       "      <td>8.5</td>\n",
       "      <td>11.25</td>\n",
       "      <td>15.0</td>\n",
       "    </tr>\n",
       "  </tbody>\n",
       "</table>\n",
       "</div>"
      ],
      "text/plain": [
       "         count     mean       std     min      25%     50%      75%     max\n",
       "Year       4.0  2015.75  4.349329  2010.0  2013.75  2016.5  2018.50  2020.0\n",
       "Car_Age    4.0     9.25  4.349329     5.0     6.50     8.5    11.25    15.0"
      ]
     },
     "execution_count": 13,
     "metadata": {},
     "output_type": "execute_result"
    }
   ],
   "source": [
    "data.describe(include='all').T"
   ]
  }
 ],
 "metadata": {
  "kernelspec": {
   "display_name": "Python 3",
   "language": "python",
   "name": "python3"
  },
  "language_info": {
   "codemirror_mode": {
    "name": "ipython",
    "version": 3
   },
   "file_extension": ".py",
   "mimetype": "text/x-python",
   "name": "python",
   "nbconvert_exporter": "python",
   "pygments_lexer": "ipython3",
   "version": "3.11.4"
  }
 },
 "nbformat": 4,
 "nbformat_minor": 5
}
